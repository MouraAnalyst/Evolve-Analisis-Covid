{
  "cells": [
    {
      "cell_type": "markdown",
      "metadata": {
        "id": "DkGWoCd9T_OZ"
      },
      "source": [
        "# Análisis de Datos COVID-19 - 2021"
      ]
    },
    {
      "cell_type": "markdown",
      "metadata": {
        "vscode": {
          "languageId": "plaintext"
        },
        "id": "dNrUtOq7T_Oa"
      },
      "source": [
        "## Evaluación del Máster en AI"
      ]
    },
    {
      "cell_type": "markdown",
      "metadata": {
        "id": "vbPk4lkuT_Oa"
      },
      "source": [
        "### 1. Introducción\n",
        "Este notebook presenta un análisis detallado de los datos COVID-19 del año 2021, utilizando datos almacenados en AWS S3. El objetivo es analizar la evolución de casos confirmados y muertes en diferentes países, con especial énfasis en España y comparativas internacionales."
      ]
    },
    {
      "cell_type": "markdown",
      "metadata": {
        "id": "MmhF2jcnT_Oa"
      },
      "source": [
        "### 2. Data\n",
        "Los datos utilizados provienen del dataset COVID del año 2021, accesible a través de AWS Athena. El dataset contiene información diaria sobre:\n",
        "- Casos confirmados (acumulados)\n",
        "- Muertes (acumuladas)\n",
        "- Información por país/región\n",
        "- Fechas de actualización"
      ]
    },
    {
      "cell_type": "markdown",
      "metadata": {
        "id": "ivW3hnMyT_Oa"
      },
      "source": [
        "### 3. Metodología\n",
        "El análisis se realizará en tres fases:\n",
        "1. Consultas mediante AWS Athena para extraer datos relevantes\n",
        "2. Procesamiento de datos utilizando pandas\n",
        "3. Visualización mediante matplotlib y seaborn"
      ]
    },
    {
      "cell_type": "markdown",
      "metadata": {
        "id": "8E4yxrnvT_Ob"
      },
      "source": [
        "### 4. Configuración Inicial y Conexión a AWS"
      ]
    },
    {
      "cell_type": "markdown",
      "metadata": {
        "id": "O2VThCE5T_Ob"
      },
      "source": [
        "Librerías:"
      ]
    },
    {
      "cell_type": "code",
      "execution_count": 9,
      "metadata": {
        "id": "22FSGIYjT_Ob"
      },
      "outputs": [],
      "source": [
        "# Importar las bibliotecas\n",
        "import pandas as pd\n",
        "import numpy as np\n",
        "import matplotlib.pyplot as plt\n",
        "import seaborn as sns\n",
        "\n",
        "# Configuración de estilo para las visualizaciones\n",
        "plt.style.use('default')  # Primero usamos el estilo default\n",
        "sns.set_theme()  # Aplicamos el tema de seaborn\n",
        "sns.set_style(\"whitegrid\")  # Configuramos el estilo de la cuadrícula\n",
        "\n",
        "# Configurar credenciales de AWS (reemplaza con tus credenciales)\n",
        "import os"
      ]
    },
    {
      "cell_type": "markdown",
      "source": [
        "#### Conexión AWS"
      ],
      "metadata": {
        "id": "9zVbmgNgWFj-"
      }
    },
    {
      "cell_type": "markdown",
      "source": [
        "# Consultas SQL realizadas en AWS Athena\n",
        "\n",
        "## 1. Evolución mensual de casos y muertes en España\n",
        "Esta consulta nos permite visualizar la progresión temporal de la pandemia en España.\n",
        "```sql\n",
        "SELECT year, month,\n",
        "       MAX(CAST(confirmed as DOUBLE)) as confirmed_cases,\n",
        "       MAX(CAST(deaths as DOUBLE)) as total_deaths\n",
        "FROM covid\n",
        "WHERE country_region = 'Spain'\n",
        "GROUP BY year, month\n",
        "ORDER BY year, month;\n",
        "```\n",
        "\n",
        "## 2. Top 10 países más afectados\n",
        "Análisis de los países con mayor número de casos confirmados.\n",
        "```sql\n",
        "SELECT country_region,\n",
        "       MAX(CAST(confirmed as DOUBLE)) as total_confirmed,\n",
        "       MAX(CAST(deaths as DOUBLE)) as total_deaths\n",
        "FROM covid\n",
        "GROUP BY country_region\n",
        "ORDER BY total_confirmed DESC\n",
        "LIMIT 10;\n",
        "```\n",
        "\n",
        "## 3. Tasa de letalidad por país\n",
        "Comparativa de la tasa de mortalidad entre países.\n",
        "```sql\n",
        "SELECT country_region,\n",
        "       MAX(CAST(confirmed as DOUBLE)) as total_cases,\n",
        "       MAX(CAST(deaths as DOUBLE)) as total_deaths,\n",
        "       (MAX(CAST(deaths as DOUBLE)) / MAX(CAST(confirmed as DOUBLE)) * 100) as mortality_rate\n",
        "FROM covid\n",
        "GROUP BY country_region\n",
        "HAVING MAX(CAST(confirmed as DOUBLE)) > 100000\n",
        "ORDER BY mortality_rate DESC\n",
        "LIMIT 15;\n",
        "```\n",
        "\n",
        "## 4. Evolución mensual global\n",
        "Tendencia mundial de casos y muertes por mes.\n",
        "```sql\n",
        "SELECT year, month,\n",
        "       SUM(CAST(confirmed as DOUBLE)) as global_cases,\n",
        "       SUM(CAST(deaths as DOUBLE)) as global_deaths\n",
        "FROM covid\n",
        "GROUP BY year, month\n",
        "ORDER BY year, month;\n",
        "```\n",
        "\n",
        "## 5. Comparativa entre países vecinos\n",
        "Análisis comparativo entre países de Europa.\n",
        "```sql\n",
        "SELECT country_region,\n",
        "       MAX(CAST(NULLIF(confirmed, '') as DOUBLE)) as total_cases,\n",
        "       MAX(CAST(NULLIF(deaths, '') as DOUBLE)) as total_deaths,\n",
        "       MAX(CAST(NULLIF(incident_rate, '') as DOUBLE)) as incident_rate\n",
        "FROM covid\n",
        "WHERE country_region IN ('Spain', 'France', 'Portugal', 'Italy', 'Germany')\n",
        "GROUP BY country_region;\n",
        "```\n",
        "\n",
        "## 6. Distribución de casos por continente\n",
        "Para esto necesitaremos agrupar países por región.\n",
        "```sql\n",
        "SELECT\n",
        "    CASE\n",
        "        WHEN country_region IN ('China', 'Japan', 'South Korea', 'India') THEN 'Asia'\n",
        "        WHEN country_region IN ('Spain', 'France', 'Italy', 'Germany', 'UK') THEN 'Europe'\n",
        "        WHEN country_region IN ('US', 'Canada', 'Mexico') THEN 'North America'\n",
        "        WHEN country_region IN ('Brazil', 'Argentina', 'Chile') THEN 'South America'\n",
        "        ELSE 'Other'\n",
        "    END as continent,\n",
        "    SUM(CAST(confirmed as DOUBLE)) as total_cases\n",
        "FROM covid\n",
        "GROUP BY 1\n",
        "ORDER BY total_cases DESC;\n",
        "```\n",
        "\n",
        "## 7. Países con mayor tasa de incidencia\n",
        "```sql\n",
        "SELECT country_region,\n",
        "       MAX(CAST(NULLIF(incident_rate, '') as DOUBLE)) as max_incident_rate,\n",
        "       MAX(CAST(NULLIF(confirmed, '') as DOUBLE)) as total_cases\n",
        "FROM covid\n",
        "WHERE CAST(NULLIF(incident_rate, '') as DOUBLE) > 0\n",
        "GROUP BY country_region\n",
        "ORDER BY max_incident_rate DESC\n",
        "LIMIT 10;\n",
        "```\n",
        "\n",
        "## 8. Análisis de casos activos vs recuperados\n",
        "```sql\n",
        "SELECT country_region,\n",
        "       MAX(CAST(NULLIF(active, '') as DOUBLE)) as active_cases,\n",
        "       MAX(CAST(NULLIF(recovered, '') as DOUBLE)) as recovered_cases\n",
        "FROM covid\n",
        "WHERE CAST(NULLIF(active, '') as DOUBLE) > 0\n",
        "GROUP BY country_region\n",
        "ORDER BY active_cases DESC\n",
        "LIMIT 15;\n",
        "```\n",
        "\n",
        "## 9. Evolución semanal en España\n",
        "```sql\n",
        "SELECT year, month,\n",
        "       DATE(SUBSTR(last_update, 1, 10)) as date,\n",
        "       MAX(CAST(NULLIF(confirmed, '') as DOUBLE)) as confirmed_cases,\n",
        "       MAX(CAST(NULLIF(deaths, '') as DOUBLE)) as deaths\n",
        "FROM covid\n",
        "WHERE country_region = 'Spain'\n",
        "GROUP BY year, month, DATE(SUBSTR(last_update, 1, 10))\n",
        "ORDER BY date;\n",
        "```\n",
        "\n",
        "## 10. Correlación entre población y casos\n",
        "```sql\n",
        "SELECT country_region,\n",
        "       MAX(CAST(NULLIF(confirmed, '') as DOUBLE)) as total_cases,\n",
        "       MAX(CAST(NULLIF(incident_rate, '') as DOUBLE)) as incident_rate,\n",
        "       MAX(CAST(NULLIF(case_fatality_ratio, '') as DOUBLE)) as fatality_ratio\n",
        "FROM covid\n",
        "WHERE CAST(NULLIF(incident_rate, '') as DOUBLE) > 0\n",
        "GROUP BY country_region\n",
        "ORDER BY total_cases DESC;\n",
        "```\n",
        "```\n",
        "\n",
        "Para cargar imágenes en el markdown de Colab, puedes usar la sintaxis de markdown estándar:\n",
        "```markdown\n",
        "![título de la imagen](url_de_la_imagen)\n",
        "```\n",
        "\n"
      ],
      "metadata": {
        "id": "RdJ_NgDSgCoe"
      }
    },
    {
      "cell_type": "code",
      "source": [],
      "metadata": {
        "id": "DrIsz01Qq--E"
      },
      "execution_count": null,
      "outputs": []
    }
  ],
  "metadata": {
    "kernelspec": {
      "display_name": "Python 3",
      "language": "python",
      "name": "python3"
    },
    "language_info": {
      "codemirror_mode": {
        "name": "ipython",
        "version": 3
      },
      "file_extension": ".py",
      "mimetype": "text/x-python",
      "name": "python",
      "nbconvert_exporter": "python",
      "pygments_lexer": "ipython3",
      "version": "3.12.0"
    },
    "colab": {
      "provenance": []
    }
  },
  "nbformat": 4,
  "nbformat_minor": 0
}